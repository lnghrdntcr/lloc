{
 "cells": [
  {
   "cell_type": "code",
   "execution_count": 1,
   "metadata": {},
   "outputs": [
    {
     "data": {
      "text/plain": [
       "<Figure size 2880x2880 with 0 Axes>"
      ]
     },
     "execution_count": 1,
     "metadata": {},
     "output_type": "execute_result"
    },
    {
     "data": {
      "text/plain": [
       "<Figure size 2880x2880 with 0 Axes>"
      ]
     },
     "metadata": {},
     "output_type": "display_data"
    }
   ],
   "source": [
    "import seaborn as sns\n",
    "import pandas as pd\n",
    "import numpy as np\n",
    "import matplotlib.pyplot as plt\n",
    "plt.figure(figsize=(40, 40))"
   ]
  },
  {
   "cell_type": "code",
   "execution_count": 2,
   "metadata": {},
   "outputs": [
    {
     "name": "stderr",
     "output_type": "stream",
     "text": [
      "<ipython-input-2-32089852697c>:7: SettingWithCopyWarning: \n",
      "A value is trying to be set on a copy of a slice from a DataFrame.\n",
      "Try using .loc[row_indexer,col_indexer] = value instead\n",
      "\n",
      "See the caveats in the documentation: https://pandas.pydata.org/pandas-docs/stable/user_guide/indexing.html#returning-a-view-versus-a-copy\n",
      "  mnist_dataset_results[\"epsilon\"] = mnist_dataset_results[\"epsilon\"].apply(lambda x: f\"1 / {int(1 / x)}\")\n",
      "<ipython-input-2-32089852697c>:8: SettingWithCopyWarning: \n",
      "A value is trying to be set on a copy of a slice from a DataFrame.\n",
      "Try using .loc[row_indexer,col_indexer] = value instead\n",
      "\n",
      "See the caveats in the documentation: https://pandas.pydata.org/pandas-docs/stable/user_guide/indexing.html#returning-a-view-versus-a-copy\n",
      "  random_dataset_results[\"epsilon\"] = random_dataset_results[\"epsilon\"].apply(lambda x: f\"1 / {int(1 / x)}\")\n"
     ]
    }
   ],
   "source": [
    "# Read results\n",
    "df = pd.read_csv(\"./results.csv\")\n",
    "mnist_dataset_results = df[(df[\"dataset\"] == \"'MNIST_DATASET'\")]\n",
    "random_dataset_results = df[(df[\"dataset\"] == \"'RANDOM_DATASET'\")]\n",
    "\n",
    "# Transform epsilon into categorical value\n",
    "mnist_dataset_results[\"epsilon\"] = mnist_dataset_results[\"epsilon\"].apply(lambda x: f\"1 / {int(1 / x)}\")\n",
    "random_dataset_results[\"epsilon\"] = random_dataset_results[\"epsilon\"].apply(lambda x: f\"1 / {int(1 / x)}\")"
   ]
  },
  {
   "cell_type": "code",
   "execution_count": 3,
   "metadata": {
    "pycharm": {
     "name": "#%%\n"
    }
   },
   "outputs": [
    {
     "data": {
      "text/plain": [
       "<matplotlib.axes._subplots.AxesSubplot at 0x7f60c5aee490>"
      ]
     },
     "execution_count": 3,
     "metadata": {},
     "output_type": "execute_result"
    },
    {
     "data": {
      "image/png": "[encoded data removed]",
      "text/plain": [
       "<Figure size 432x288 with 1 Axes>"
      ]
     },
     "metadata": {
      "needs_background": "light"
     },
     "output_type": "display_data"
    }
   ],
   "source": [
    "#plt.figure(figsize=(40, 40))\n",
    "\n",
    "sns.barplot(x=\"epsilon\", y=\"error\", hue=\"contaminated_percentage\", data=mnist_dataset_results)\n",
    "#sns.boxplot(x=\"epsilon\", y=\"error\", hue=\"contaminated_percentage\", data=mnist_dataset_results)"
   ]
  },
  {
   "cell_type": "code",
   "execution_count": 16,
   "metadata": {
    "pycharm": {
     "name": "#%%\n"
    }
   },
   "outputs": [
    {
     "data": {
      "text/plain": [
       "<matplotlib.axes._subplots.AxesSubplot at 0x7fe1858b1eb0>"
      ]
     },
     "execution_count": 16,
     "metadata": {},
     "output_type": "execute_result"
    },
    {
     "data": {
      "image/png": "[encoded data removed]",
      "text/plain": [
       "<Figure size 432x288 with 1 Axes>"
      ]
     },
     "metadata": {
      "needs_background": "light"
     },
     "output_type": "display_data"
    }
   ],
   "source": [
    "#plt.figure(figsize=(40, 40))\n",
    "\n",
    "sns.barplot(x=\"epsilon\", y=\"error\", hue=\"contaminated_percentage\", data=random_dataset_results)\n",
    "#sns.boxplot(x=\"epsilon\", y=\"error\", hue=\"contaminated_percentage\", data=random_dataset_results)\n"
   ]
  },
  {
   "cell_type": "code",
   "execution_count": 8,
   "metadata": {
    "pycharm": {
     "name": "#%%\n"
    }
   },
   "outputs": [
    {
     "data": {
      "text/html": [
       "<div>\n",
       "<style scoped>\n",
       "    .dataframe tbody tr th:only-of-type {\n",
       "        vertical-align: middle;\n",
       "    }\n",
       "\n",
       "    .dataframe tbody tr th {\n",
       "        vertical-align: top;\n",
       "    }\n",
       "\n",
       "    .dataframe thead th {\n",
       "        text-align: right;\n",
       "    }\n",
       "</style>\n",
       "<table border=\"1\" class=\"dataframe\">\n",
       "  <thead>\n",
       "    <tr style=\"text-align: right;\">\n",
       "      <th></th>\n",
       "      <th>dataset</th>\n",
       "      <th>epsilon</th>\n",
       "      <th>contaminated_percentage</th>\n",
       "      <th>train_test_split_rate</th>\n",
       "      <th>error</th>\n",
       "    </tr>\n",
       "  </thead>\n",
       "  <tbody>\n",
       "    <tr>\n",
       "      <th>0</th>\n",
       "      <td>'MNIST_DATASET'</td>\n",
       "      <td>1 / 3</td>\n",
       "      <td>0.0</td>\n",
       "      <td>0.3</td>\n",
       "      <td>0.052860</td>\n",
       "    </tr>\n",
       "    <tr>\n",
       "      <th>1</th>\n",
       "      <td>'MNIST_DATASET'</td>\n",
       "      <td>1 / 3</td>\n",
       "      <td>0.0</td>\n",
       "      <td>0.3</td>\n",
       "      <td>0.046700</td>\n",
       "    </tr>\n",
       "    <tr>\n",
       "      <th>2</th>\n",
       "      <td>'MNIST_DATASET'</td>\n",
       "      <td>1 / 3</td>\n",
       "      <td>0.0</td>\n",
       "      <td>0.3</td>\n",
       "      <td>0.056078</td>\n",
       "    </tr>\n",
       "    <tr>\n",
       "      <th>3</th>\n",
       "      <td>'MNIST_DATASET'</td>\n",
       "      <td>1 / 3</td>\n",
       "      <td>0.0</td>\n",
       "      <td>0.3</td>\n",
       "      <td>0.061206</td>\n",
       "    </tr>\n",
       "    <tr>\n",
       "      <th>4</th>\n",
       "      <td>'MNIST_DATASET'</td>\n",
       "      <td>1 / 3</td>\n",
       "      <td>0.0</td>\n",
       "      <td>0.3</td>\n",
       "      <td>0.050306</td>\n",
       "    </tr>\n",
       "  </tbody>\n",
       "</table>\n",
       "</div>"
      ],
      "text/plain": [
       "           dataset epsilon  contaminated_percentage  train_test_split_rate  \\\n",
       "0  'MNIST_DATASET'   1 / 3                      0.0                    0.3   \n",
       "1  'MNIST_DATASET'   1 / 3                      0.0                    0.3   \n",
       "2  'MNIST_DATASET'   1 / 3                      0.0                    0.3   \n",
       "3  'MNIST_DATASET'   1 / 3                      0.0                    0.3   \n",
       "4  'MNIST_DATASET'   1 / 3                      0.0                    0.3   \n",
       "\n",
       "      error  \n",
       "0  0.052860  \n",
       "1  0.046700  \n",
       "2  0.056078  \n",
       "3  0.061206  \n",
       "4  0.050306  "
      ]
     },
     "execution_count": 8,
     "metadata": {},
     "output_type": "execute_result"
    }
   ],
   "source": [
    "mnist_dataset_results.head()\n",
    "#plt.figure(figsize=(40, 40))"
   ]
  },
  {
   "cell_type": "code",
   "execution_count": null,
   "metadata": {
    "pycharm": {
     "name": "#%%\n"
    }
   },
   "outputs": [],
   "source": [
    "\n"
   ]
  }
 ],
 "metadata": {
  "kernelspec": {
   "display_name": "Python 3",
   "language": "python",
   "name": "python3"
  },
  "language_info": {
   "codemirror_mode": {
    "name": "ipython",
    "version": 3
   },
   "file_extension": ".py",
   "mimetype": "text/x-python",
   "name": "python",
   "nbconvert_exporter": "python",
   "pygments_lexer": "ipython3",
   "version": "3.8.2"
  }
 },
 "nbformat": 4,
 "nbformat_minor": 4
}